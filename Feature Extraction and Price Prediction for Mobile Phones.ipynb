{
 "cells": [
  {
   "cell_type": "code",
   "execution_count": 29,
   "metadata": {},
   "outputs": [
    {
     "name": "stdout",
     "output_type": "stream",
     "text": [
      "Requirement already satisfied: scikit-learn in c:\\users\\bhupender kumar\\appdata\\local\\programs\\python\\python312\\lib\\site-packages (1.4.1.post1)\n",
      "Requirement already satisfied: numpy<2.0,>=1.19.5 in c:\\users\\bhupender kumar\\appdata\\local\\programs\\python\\python312\\lib\\site-packages (from scikit-learn) (1.26.2)\n",
      "Requirement already satisfied: scipy>=1.6.0 in c:\\users\\bhupender kumar\\appdata\\local\\programs\\python\\python312\\lib\\site-packages (from scikit-learn) (1.12.0)\n",
      "Requirement already satisfied: joblib>=1.2.0 in c:\\users\\bhupender kumar\\appdata\\local\\programs\\python\\python312\\lib\\site-packages (from scikit-learn) (1.3.2)\n",
      "Requirement already satisfied: threadpoolctl>=2.0.0 in c:\\users\\bhupender kumar\\appdata\\local\\programs\\python\\python312\\lib\\site-packages (from scikit-learn) (3.3.0)\n"
     ]
    }
   ],
   "source": [
    "!pip install scikit-learn"
   ]
  },
  {
   "cell_type": "code",
   "execution_count": 30,
   "metadata": {},
   "outputs": [],
   "source": [
    "# Import necessary libraries\n",
    "import pandas as pd\n",
    "import numpy as np\n",
    "import matplotlib.pyplot as plt\n",
    "import seaborn as sns\n",
    "from sklearn.model_selection import train_test_split\n",
    "from sklearn.preprocessing import OneHotEncoder, StandardScaler\n",
    "from sklearn.impute import SimpleImputer\n",
    "from sklearn.ensemble import RandomForestRegressor\n",
    "from sklearn.metrics import mean_absolute_error, mean_squared_error"
   ]
  },
  {
   "cell_type": "code",
   "execution_count": 31,
   "metadata": {},
   "outputs": [],
   "source": [
    "# Load the dataset\n",
    "data = pd.read_csv(\"mobile_data.csv\")"
   ]
  },
  {
   "cell_type": "code",
   "execution_count": 32,
   "metadata": {},
   "outputs": [
    {
     "name": "stdout",
     "output_type": "stream",
     "text": [
      "   Unnamed: 0            Model        Colour  Memory  RAM  Battery_  \\\n",
      "0           0  Infinix SMART 7   Night Black      64    4      6000   \n",
      "1           1  Infinix SMART 7    Azure Blue      64    4      6000   \n",
      "2           2     MOTOROLA G32  Mineral Gray     128    8      5000   \n",
      "3           3         POCO C50    Royal Blue      32    2      5000   \n",
      "4           4  Infinix HOT 30i      Marigold     128    8      5000   \n",
      "\n",
      "  Rear Camera Front Camera  AI Lens  Mobile Height  \\\n",
      "0        13MP          5MP        1          16.76   \n",
      "1        13MP          5MP        1          16.76   \n",
      "2        50MP         16MP        0          16.64   \n",
      "3         8MP          5MP        0          16.56   \n",
      "4        50MP          5MP        1          16.76   \n",
      "\n",
      "                   Processor_   Prize  \n",
      "0  Unisoc Spreadtrum SC9863A1   7,299  \n",
      "1  Unisoc Spreadtrum SC9863A1   7,299  \n",
      "2     Qualcomm Snapdragon 680  11,999  \n",
      "3          Mediatek Helio A22   5,649  \n",
      "4                         G37   8,999  \n"
     ]
    }
   ],
   "source": [
    "# Data Exploration\n",
    "print(data.head())\n"
   ]
  },
  {
   "cell_type": "code",
   "execution_count": 33,
   "metadata": {},
   "outputs": [
    {
     "name": "stdout",
     "output_type": "stream",
     "text": [
      "<class 'pandas.core.frame.DataFrame'>\n",
      "RangeIndex: 541 entries, 0 to 540\n",
      "Data columns (total 12 columns):\n",
      " #   Column         Non-Null Count  Dtype  \n",
      "---  ------         --------------  -----  \n",
      " 0   Unnamed: 0     541 non-null    int64  \n",
      " 1   Model          541 non-null    object \n",
      " 2   Colour         541 non-null    object \n",
      " 3   Memory         541 non-null    int64  \n",
      " 4   RAM            541 non-null    int64  \n",
      " 5   Battery_       541 non-null    int64  \n",
      " 6   Rear Camera    541 non-null    object \n",
      " 7   Front Camera   541 non-null    object \n",
      " 8   AI Lens        541 non-null    int64  \n",
      " 9   Mobile Height  541 non-null    float64\n",
      " 10  Processor_     541 non-null    object \n",
      " 11  Prize          541 non-null    object \n",
      "dtypes: float64(1), int64(5), object(6)\n",
      "memory usage: 50.8+ KB\n",
      "None\n"
     ]
    }
   ],
   "source": [
    "print(data.info())\n"
   ]
  },
  {
   "cell_type": "code",
   "execution_count": 34,
   "metadata": {},
   "outputs": [
    {
     "name": "stdout",
     "output_type": "stream",
     "text": [
      "       Unnamed: 0      Memory         RAM     Battery_     AI Lens  \\\n",
      "count  541.000000  541.000000  541.000000   541.000000  541.000000   \n",
      "mean   289.711645  110.550832    5.397412  4871.587800    0.062847   \n",
      "std    182.359185   60.600694    1.984923   780.148862    0.242911   \n",
      "min      0.000000   16.000000    2.000000   800.000000    0.000000   \n",
      "25%    135.000000   64.000000    4.000000  5000.000000    0.000000   \n",
      "50%    273.000000  128.000000    6.000000  5000.000000    0.000000   \n",
      "75%    434.000000  128.000000    8.000000  5000.000000    0.000000   \n",
      "max    642.000000  256.000000    8.000000  7000.000000    1.000000   \n",
      "\n",
      "       Mobile Height  \n",
      "count     541.000000  \n",
      "mean       16.431201  \n",
      "std         2.523553  \n",
      "min         4.500000  \n",
      "25%        16.510000  \n",
      "50%        16.710000  \n",
      "75%        16.940000  \n",
      "max        41.940000  \n"
     ]
    }
   ],
   "source": [
    "print(data.describe())"
   ]
  },
  {
   "cell_type": "code",
   "execution_count": 35,
   "metadata": {},
   "outputs": [],
   "source": [
    "# Data Preprocessing\n",
    "\n",
    "# Handle missing values\n",
    "imputer = SimpleImputer(strategy=\"mean\")\n",
    "data[\"Memory\"] = imputer.fit_transform(data[[\"Memory\"]])\n",
    "# Repeat this for other numeric features with missing values\n",
    "\n",
    "# Convert categorical variables to numerical using one-hot encoding\n",
    "data = pd.get_dummies(data, columns=[\"RAM\", \"Battery_\", \"AI Lens\"])\n"
   ]
  },
  {
   "cell_type": "code",
   "execution_count": 36,
   "metadata": {},
   "outputs": [
    {
     "name": "stdout",
     "output_type": "stream",
     "text": [
      "Memory           1.000000\n",
      "Unnamed: 0       0.120579\n",
      "Mobile Height    0.063163\n",
      "Name: Memory, dtype: float64\n"
     ]
    }
   ],
   "source": [
    "#correlation analysis\n",
    "# Exclude non-numeric columns from correlation analysis\n",
    "numeric_columns = data.select_dtypes(include=[np.number]).columns\n",
    "correlation_matrix = data[numeric_columns].corr()\n",
    "price_correlation = correlation_matrix['Memory'].sort_values(ascending=False)\n",
    "print(price_correlation)\n",
    "\n"
   ]
  },
  {
   "cell_type": "code",
   "execution_count": 41,
   "metadata": {},
   "outputs": [],
   "source": [
    "# Feature Extraction\n",
    "\n",
    "# Split features and target variable\n",
    "X = data.drop(columns=[\"Prize\"])\n",
    "y = data[\"Prize\"]\n"
   ]
  },
  {
   "cell_type": "code",
   "execution_count": 43,
   "metadata": {},
   "outputs": [],
   "source": [
    "# Split the dataset into training and testing sets\n",
    "X_train, X_test, y_train, y_test = train_test_split(X, y, test_size=0.2, random_state=42)"
   ]
  },
  {
   "cell_type": "code",
   "execution_count": 48,
   "metadata": {},
   "outputs": [
    {
     "name": "stdout",
     "output_type": "stream",
     "text": [
      "Error: No valid samples left after data preprocessing.\n"
     ]
    }
   ],
   "source": [
    "# Model Building\n",
    "#Battery_ = RandomForestRegressor(n_estimators=100, random_state=42)\n",
    "#Battery_.fit(X_train, y_train)\n",
    "\n",
    "# Convert non-numeric columns to numeric if possible\n",
    "X_train_numeric = X_train.apply(pd.to_numeric, errors='coerce')\n",
    "\n",
    "# Drop rows with NaN values resulting from non-convertible strings\n",
    "X_train_numeric = X_train_numeric.dropna()\n",
    "\n",
    "# Check if there are any samples left after dropping rows with NaN values\n",
    "if X_train_numeric.shape[0] == 0:\n",
    "    print(\"Error: No valid samples left after data preprocessing.\")\n",
    "else:\n",
    "    # Fit RandomForestRegressor model using entire feature set\n",
    "    model = RandomForestRegressor(n_estimators=100, random_state=42)\n",
    "    model.fit(X_train_numeric, y_train)\n",
    "\n",
    "    # Get feature importances\n",
    "    feature_importances = model.feature_importances_\n",
    "    features = X_train_numeric.columns\n",
    "\n",
    "    # Create DataFrame to store feature importances\n",
    "    feature_importance_df = pd.DataFrame({\"Feature\": features, \"Importance\": feature_importances})\n",
    "    feature_importance_df = feature_importance_df.sort_values(by=\"Importance\", ascending=False)\n",
    "    print(feature_importance_df)\n"
   ]
  },
  {
   "cell_type": "code",
   "execution_count": null,
   "metadata": {},
   "outputs": [],
   "source": []
  }
 ],
 "metadata": {
  "kernelspec": {
   "display_name": "Python 3",
   "language": "python",
   "name": "python3"
  },
  "language_info": {
   "codemirror_mode": {
    "name": "ipython",
    "version": 3
   },
   "file_extension": ".py",
   "mimetype": "text/x-python",
   "name": "python",
   "nbconvert_exporter": "python",
   "pygments_lexer": "ipython3",
   "version": "3.12.0"
  }
 },
 "nbformat": 4,
 "nbformat_minor": 2
}
